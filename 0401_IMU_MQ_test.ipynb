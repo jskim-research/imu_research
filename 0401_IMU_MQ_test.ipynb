{
 "cells": [
  {
   "cell_type": "code",
   "execution_count": 15,
   "outputs": [],
   "source": [
    "import numpy as np\n",
    "import pandas as pd\n",
    "import matplotlib\n",
    "import matplotlib.pyplot as plt\n",
    "import os\n",
    "import util\n",
    "import SSA\n",
    "import importlib\n",
    "import tensorflow as tf\n",
    "from models import shallow_vgg\n",
    "from skimage.transform import resize\n",
    "from tensorflow.keras import losses, metrics, optimizers, callbacks\n",
    "\n",
    "importlib.reload(shallow_vgg)\n",
    "\n",
    "plt.rcParams['axes.unicode_minus'] = False\n",
    "matplotlib.rcParams['font.family'] ='Malgun Gothic'"
   ],
   "metadata": {
    "collapsed": false,
    "pycharm": {
     "name": "#%%\n"
    }
   }
  },
  {
   "cell_type": "code",
   "execution_count": 11,
   "outputs": [
    {
     "name": "stdout",
     "output_type": "stream",
     "text": [
      "Model: \"model_13\"\n",
      "__________________________________________________________________________________________________\n",
      " Layer (type)                   Output Shape         Param #     Connected to                     \n",
      "==================================================================================================\n",
      " stft_input (InputLayer)        [(None, 128, 32, 24  0           []                               \n",
      "                                )]                                                                \n",
      "                                                                                                  \n",
      " recur_input (InputLayer)       [(None, 1024, 1024,  0           []                               \n",
      "                                 4)]                                                              \n",
      "                                                                                                  \n",
      " conv2d_78 (Conv2D)             (None, 128, 32, 64)  13888       ['stft_input[0][0]']             \n",
      "                                                                                                  \n",
      " conv2d_81 (Conv2D)             (None, 1024, 1024,   2368        ['recur_input[0][0]']            \n",
      "                                64)                                                               \n",
      "                                                                                                  \n",
      " batch_normalization_30 (BatchN  (None, 128, 32, 64)  256        ['conv2d_78[0][0]']              \n",
      " ormalization)                                                                                    \n",
      "                                                                                                  \n",
      " batch_normalization_33 (BatchN  (None, 1024, 1024,   256        ['conv2d_81[0][0]']              \n",
      " ormalization)                  64)                                                               \n",
      "                                                                                                  \n",
      " re_lu_30 (ReLU)                (None, 128, 32, 64)  0           ['batch_normalization_30[0][0]'] \n",
      "                                                                                                  \n",
      " re_lu_33 (ReLU)                (None, 1024, 1024,   0           ['batch_normalization_33[0][0]'] \n",
      "                                64)                                                               \n",
      "                                                                                                  \n",
      " max_pooling2d_52 (MaxPooling2D  (None, 64, 16, 64)  0           ['re_lu_30[0][0]']               \n",
      " )                                                                                                \n",
      "                                                                                                  \n",
      " max_pooling2d_54 (MaxPooling2D  (None, 512, 512, 64  0          ['re_lu_33[0][0]']               \n",
      " )                              )                                                                 \n",
      "                                                                                                  \n",
      " conv2d_79 (Conv2D)             (None, 64, 16, 128)  73856       ['max_pooling2d_52[0][0]']       \n",
      "                                                                                                  \n",
      " conv2d_82 (Conv2D)             (None, 512, 512, 12  73856       ['max_pooling2d_54[0][0]']       \n",
      "                                8)                                                                \n",
      "                                                                                                  \n",
      " batch_normalization_31 (BatchN  (None, 64, 16, 128)  512        ['conv2d_79[0][0]']              \n",
      " ormalization)                                                                                    \n",
      "                                                                                                  \n",
      " batch_normalization_34 (BatchN  (None, 512, 512, 12  512        ['conv2d_82[0][0]']              \n",
      " ormalization)                  8)                                                                \n",
      "                                                                                                  \n",
      " re_lu_31 (ReLU)                (None, 64, 16, 128)  0           ['batch_normalization_31[0][0]'] \n",
      "                                                                                                  \n",
      " re_lu_34 (ReLU)                (None, 512, 512, 12  0           ['batch_normalization_34[0][0]'] \n",
      "                                8)                                                                \n",
      "                                                                                                  \n",
      " max_pooling2d_53 (MaxPooling2D  (None, 32, 8, 128)  0           ['re_lu_31[0][0]']               \n",
      " )                                                                                                \n",
      "                                                                                                  \n",
      " max_pooling2d_55 (MaxPooling2D  (None, 256, 256, 12  0          ['re_lu_34[0][0]']               \n",
      " )                              8)                                                                \n",
      "                                                                                                  \n",
      " conv2d_80 (Conv2D)             (None, 32, 8, 256)   295168      ['max_pooling2d_53[0][0]']       \n",
      "                                                                                                  \n",
      " conv2d_83 (Conv2D)             (None, 256, 256, 25  295168      ['max_pooling2d_55[0][0]']       \n",
      "                                6)                                                                \n",
      "                                                                                                  \n",
      " batch_normalization_32 (BatchN  (None, 32, 8, 256)  1024        ['conv2d_80[0][0]']              \n",
      " ormalization)                                                                                    \n",
      "                                                                                                  \n",
      " batch_normalization_35 (BatchN  (None, 256, 256, 25  1024       ['conv2d_83[0][0]']              \n",
      " ormalization)                  6)                                                                \n",
      "                                                                                                  \n",
      " re_lu_32 (ReLU)                (None, 32, 8, 256)   0           ['batch_normalization_32[0][0]'] \n",
      "                                                                                                  \n",
      " re_lu_35 (ReLU)                (None, 256, 256, 25  0           ['batch_normalization_35[0][0]'] \n",
      "                                6)                                                                \n",
      "                                                                                                  \n",
      " global_average_pooling2d_26 (G  (None, 256)         0           ['re_lu_32[0][0]']               \n",
      " lobalAveragePooling2D)                                                                           \n",
      "                                                                                                  \n",
      " global_average_pooling2d_27 (G  (None, 256)         0           ['re_lu_35[0][0]']               \n",
      " lobalAveragePooling2D)                                                                           \n",
      "                                                                                                  \n",
      " concatenate_13 (Concatenate)   (None, 512)          0           ['global_average_pooling2d_26[0][\n",
      "                                                                 0]',                             \n",
      "                                                                  'global_average_pooling2d_27[0][\n",
      "                                                                 0]']                             \n",
      "                                                                                                  \n",
      " dense_39 (Dense)               (None, 128)          65664       ['concatenate_13[0][0]']         \n",
      "                                                                                                  \n",
      " batch_normalization_36 (BatchN  (None, 128)         512         ['dense_39[0][0]']               \n",
      " ormalization)                                                                                    \n",
      "                                                                                                  \n",
      " re_lu_36 (ReLU)                (None, 128)          0           ['batch_normalization_36[0][0]'] \n",
      "                                                                                                  \n",
      " final_output (Dense)           (None, 1)            129         ['re_lu_36[0][0]']               \n",
      "                                                                                                  \n",
      "==================================================================================================\n",
      "Total params: 824,193\n",
      "Trainable params: 822,145\n",
      "Non-trainable params: 2,048\n",
      "__________________________________________________________________________________________________\n"
     ]
    }
   ],
   "source": [
    "model = shallow_vgg.CompositeVGG()\n",
    "model.summary()"
   ],
   "metadata": {
    "collapsed": false,
    "pycharm": {
     "name": "#%%\n"
    }
   }
  },
  {
   "cell_type": "code",
   "execution_count": 2,
   "outputs": [],
   "source": [
    "def mean_error(y_true, y_pred):\n",
    "    def _mean_error_score(y_true, y_pred):\n",
    "        return np.mean(y_true - y_pred)\n",
    "    score = tf.py_function(func=_mean_error_score, inp=[y_true, y_pred], Tout=tf.float32, name='mean_error')\n",
    "    return score"
   ],
   "metadata": {
    "collapsed": false,
    "pycharm": {
     "name": "#%%\n"
    }
   }
  },
  {
   "cell_type": "code",
   "execution_count": 3,
   "outputs": [
    {
     "name": "stdout",
     "output_type": "stream",
     "text": [
      "(6, 32, 128)\n",
      "(6, 32, 128)\n",
      "(6, 32, 128)\n",
      "(6, 32, 128)\n",
      "(6, 32, 128)\n",
      "(6, 32, 128)\n",
      "(6, 32, 128)\n",
      "(6, 32, 128)\n",
      "(6, 32, 128)\n",
      "(6, 32, 128)\n",
      "(6, 32, 128)\n",
      "(6, 32, 128)\n",
      "(6, 32, 128)\n",
      "(6, 32, 128)\n",
      "(6, 32, 128)\n",
      "(6, 32, 128)\n",
      "(6, 32, 128)\n",
      "(6, 32, 128)\n",
      "(6, 32, 128)\n",
      "(6, 32, 128)\n",
      "(6, 32, 128)\n",
      "(6, 32, 128)\n",
      "(6, 32, 128)\n",
      "(6, 32, 128)\n",
      "(6, 32, 128)\n",
      "(6, 32, 128)\n",
      "(6, 32, 128)\n",
      "(6, 32, 128)\n",
      "(6, 32, 128)\n",
      "(6, 32, 128)\n",
      "(6, 32, 128)\n",
      "(6, 32, 128)\n"
     ]
    }
   ],
   "source": [
    "data_path = \"./data/2022_04_01_motion_imu/\"\n",
    "fn_list = os.listdir(data_path)\n",
    "# user_list = [\"인\", \"데이비드\", \"제이슨\", \"로제\", \"마이어\", \"찰스\", \"지나\", \"제임스\", \"미쉘\"]\n",
    "user_list = [\"인\", \"데이비드\", \"제이슨\", \"로제\", \"마이어\", \"찰스\", \"제임스\", \"미쉘\"]\n",
    "\n",
    "leg_score = {\"인\": 31.46, \"데이비드\": 36.62, \"제이슨\": 17.51, \"로제\": 22.75, \"마이어\": 38.76, \"찰스\": 41.19, \"지나\": 20.04, \"제임스\": 31.66, \"미쉘\": 13.35}\n",
    "\n",
    "body_info = {\"인\": [171, 70], \"데이비드\": [173, 67], \"제이슨\": [172, 47], \"로제\": [158, 53], \"마이어\": [174, 53], \"찰스\": [174, 64], \"지나\": [], \"제임스\": [171, 62], \"미쉘\": [159, 52]}\n",
    "\n",
    "\n",
    "dic_list = {}\n",
    "\n",
    "for fn in fn_list:\n",
    "    user_name = fn.split(\"_\")[0]\n",
    "    if user_name not in user_list:\n",
    "        continue\n",
    "\n",
    "    if user_name not in dic_list:\n",
    "        dic_list[user_name] = {}\n",
    "        dic_list[user_name][\"y\"] = leg_score[user_name]\n",
    "        dic_list[user_name][\"body_info\"] = body_info[user_name]\n",
    "\n",
    "    df = pd.read_csv(f\"{data_path}{fn}\", sep=\",\", names=[\"ax\", \"ay\", \"az\", \"gx\", \"gy\", \"gz\"])\n",
    "    np_data = df.to_numpy()\n",
    "    cpy_data = np_data.copy()\n",
    "\n",
    "    ssa_list = []\n",
    "    stft_list = []\n",
    "    for i in range(6):\n",
    "        ssa = SSA.SSA(np_data[:, i], L=20)\n",
    "        ssa_list.append(ssa.reconstruct([0]).to_numpy())\n",
    "        # target_data = np_data[:, i]\n",
    "        target_data = ssa.reconstruct([0])\n",
    "        cpy_data[:, i] = ssa.reconstruct([0])\n",
    "        stft = resize(util.stft(target_data, 64), (32, 128), mode='constant')\n",
    "        stft_list.append(stft)\n",
    "    np_ssa_list = np.array(ssa_list)\n",
    "    np_stft_list = np.array(stft_list)\n",
    "    print(np_stft_list.shape)\n",
    "\n",
    "    if \"stft\" in dic_list[user_name]:\n",
    "        dic_list[user_name][\"stft\"].append(np_stft_list)\n",
    "    else:\n",
    "        dic_list[user_name][\"stft\"] = [np_stft_list]\n",
    "\n",
    "    recur_plot = util.recurrence_plot(cpy_data, 10000)  # 뒤의 clipping은 안 씀\n",
    "    recur_plot = np.expand_dims(resize(recur_plot, (1024, 1024), mode='constant'), axis=0)\n",
    "    if \"recur_plot\" in dic_list[user_name]:\n",
    "        dic_list[user_name][\"recur_plot\"].append(recur_plot)\n",
    "    else:\n",
    "        dic_list[user_name][\"recur_plot\"] = [recur_plot]\n",
    "\n"
   ],
   "metadata": {
    "collapsed": false,
    "pycharm": {
     "name": "#%%\n"
    }
   }
  },
  {
   "cell_type": "code",
   "execution_count": 4,
   "outputs": [],
   "source": [
    "for user_name in dic_list:\n",
    "    concat_arr = np.concatenate(dic_list[user_name][\"stft\"])\n",
    "    dic_list[user_name][\"image\"] = concat_arr.transpose((2, 1, 0))  # (time, freq, chan=부착위치)\n",
    "    recur_concat_arr = np.concatenate(dic_list[user_name][\"recur_plot\"]) / 10000\n",
    "    dic_list[user_name][\"recur_image\"] = recur_concat_arr.transpose((2, 1, 0))"
   ],
   "metadata": {
    "collapsed": false,
    "pycharm": {
     "name": "#%%\n"
    }
   }
  },
  {
   "cell_type": "code",
   "execution_count": 5,
   "outputs": [
    {
     "name": "stdout",
     "output_type": "stream",
     "text": [
      "start\n"
     ]
    },
    {
     "data": {
      "text/plain": "<Figure size 432x288 with 1 Axes>",
      "image/png": "[encoded data removed]"
     },
     "metadata": {
      "needs_background": "light"
     },
     "output_type": "display_data"
    },
    {
     "name": "stdout",
     "output_type": "stream",
     "text": [
      "1/1 [==============================] - 0s 267ms/step - loss: 139.7568 - mean_squared_error: 139.7568 - mean_absolute_error: 11.8219 - mean_error: -11.8219\n"
     ]
    },
    {
     "data": {
      "text/plain": "<Figure size 432x288 with 1 Axes>",
      "image/png": "[encoded data removed]"
     },
     "metadata": {
      "needs_background": "light"
     },
     "output_type": "display_data"
    },
    {
     "name": "stdout",
     "output_type": "stream",
     "text": [
      "1/1 [==============================] - 0s 230ms/step - loss: 291.6192 - mean_squared_error: 291.6192 - mean_absolute_error: 17.0769 - mean_error: 17.0769\n"
     ]
    },
    {
     "data": {
      "text/plain": "<Figure size 432x288 with 1 Axes>",
      "image/png": "[encoded data removed]"
     },
     "metadata": {
      "needs_background": "light"
     },
     "output_type": "display_data"
    },
    {
     "name": "stdout",
     "output_type": "stream",
     "text": [
      "1/1 [==============================] - 0s 232ms/step - loss: 5.8653 - mean_squared_error: 5.8653 - mean_absolute_error: 2.4218 - mean_error: -2.4218\n"
     ]
    },
    {
     "data": {
      "text/plain": "<Figure size 432x288 with 1 Axes>",
      "image/png": "[encoded data removed]"
     },
     "metadata": {
      "needs_background": "light"
     },
     "output_type": "display_data"
    },
    {
     "name": "stdout",
     "output_type": "stream",
     "text": [
      "1/1 [==============================] - 0s 234ms/step - loss: 210.4306 - mean_squared_error: 210.4306 - mean_absolute_error: 14.5062 - mean_error: -14.5062\n"
     ]
    },
    {
     "data": {
      "text/plain": "<Figure size 432x288 with 1 Axes>",
      "image/png": "[encoded data removed]"
     },
     "metadata": {
      "needs_background": "light"
     },
     "output_type": "display_data"
    },
    {
     "name": "stdout",
     "output_type": "stream",
     "text": [
      "WARNING:tensorflow:5 out of the last 5 calls to <function Model.make_test_function.<locals>.test_function at 0x00000163D3BDFF78> triggered tf.function retracing. Tracing is expensive and the excessive number of tracings could be due to (1) creating @tf.function repeatedly in a loop, (2) passing tensors with different shapes, (3) passing Python objects instead of tensors. For (1), please define your @tf.function outside of the loop. For (2), @tf.function has experimental_relax_shapes=True option that relaxes argument shapes that can avoid unnecessary retracing. For (3), please refer to https://www.tensorflow.org/guide/function#controlling_retracing and https://www.tensorflow.org/api_docs/python/tf/function for  more details.\n",
      "1/1 [==============================] - 0s 234ms/step - loss: 135.7845 - mean_squared_error: 135.7845 - mean_absolute_error: 11.6527 - mean_error: 11.6527\n"
     ]
    },
    {
     "ename": "KeyboardInterrupt",
     "evalue": "",
     "output_type": "error",
     "traceback": [
      "\u001B[1;31m---------------------------------------------------------------------------\u001B[0m",
      "\u001B[1;31mKeyboardInterrupt\u001B[0m                         Traceback (most recent call last)",
      "\u001B[1;32m~\\AppData\\Local\\Temp\\ipykernel_43440\\2421913800.py\u001B[0m in \u001B[0;36m<module>\u001B[1;34m\u001B[0m\n\u001B[0;32m     25\u001B[0m     \u001B[0mmodel\u001B[0m\u001B[1;33m.\u001B[0m\u001B[0mcompile\u001B[0m\u001B[1;33m(\u001B[0m\u001B[0moptimizer\u001B[0m\u001B[1;33m=\u001B[0m\u001B[0moptimizer\u001B[0m\u001B[1;33m,\u001B[0m \u001B[0mloss\u001B[0m\u001B[1;33m=\u001B[0m\u001B[1;33m{\u001B[0m\u001B[1;34m'final_output'\u001B[0m\u001B[1;33m:\u001B[0m \u001B[0mloss\u001B[0m\u001B[1;33m}\u001B[0m\u001B[1;33m,\u001B[0m \u001B[0mmetrics\u001B[0m\u001B[1;33m=\u001B[0m\u001B[1;33m[\u001B[0m\u001B[0mmetrics\u001B[0m\u001B[1;33m.\u001B[0m\u001B[0mMeanSquaredError\u001B[0m\u001B[1;33m(\u001B[0m\u001B[1;33m)\u001B[0m\u001B[1;33m,\u001B[0m \u001B[0mmetrics\u001B[0m\u001B[1;33m.\u001B[0m\u001B[0mMeanAbsoluteError\u001B[0m\u001B[1;33m(\u001B[0m\u001B[1;33m)\u001B[0m\u001B[1;33m,\u001B[0m \u001B[0mmean_error\u001B[0m\u001B[1;33m]\u001B[0m\u001B[1;33m)\u001B[0m\u001B[1;33m\u001B[0m\u001B[1;33m\u001B[0m\u001B[0m\n\u001B[0;32m     26\u001B[0m     history = model.fit(train_dataset,\n\u001B[1;32m---> 27\u001B[1;33m                         epochs=100, verbose=0)\n\u001B[0m\u001B[0;32m     28\u001B[0m     \u001B[0mplt\u001B[0m\u001B[1;33m.\u001B[0m\u001B[0mplot\u001B[0m\u001B[1;33m(\u001B[0m\u001B[0mhistory\u001B[0m\u001B[1;33m.\u001B[0m\u001B[0mhistory\u001B[0m\u001B[1;33m[\u001B[0m\u001B[1;34m\"loss\"\u001B[0m\u001B[1;33m]\u001B[0m\u001B[1;33m)\u001B[0m\u001B[1;33m\u001B[0m\u001B[1;33m\u001B[0m\u001B[0m\n\u001B[0;32m     29\u001B[0m     \u001B[0mplt\u001B[0m\u001B[1;33m.\u001B[0m\u001B[0mshow\u001B[0m\u001B[1;33m(\u001B[0m\u001B[1;33m)\u001B[0m\u001B[1;33m\u001B[0m\u001B[1;33m\u001B[0m\u001B[0m\n",
      "\u001B[1;32m~\\anaconda3\\envs\\jskim\\lib\\site-packages\\keras\\utils\\traceback_utils.py\u001B[0m in \u001B[0;36merror_handler\u001B[1;34m(*args, **kwargs)\u001B[0m\n\u001B[0;32m     62\u001B[0m     \u001B[0mfiltered_tb\u001B[0m \u001B[1;33m=\u001B[0m \u001B[1;32mNone\u001B[0m\u001B[1;33m\u001B[0m\u001B[1;33m\u001B[0m\u001B[0m\n\u001B[0;32m     63\u001B[0m     \u001B[1;32mtry\u001B[0m\u001B[1;33m:\u001B[0m\u001B[1;33m\u001B[0m\u001B[1;33m\u001B[0m\u001B[0m\n\u001B[1;32m---> 64\u001B[1;33m       \u001B[1;32mreturn\u001B[0m \u001B[0mfn\u001B[0m\u001B[1;33m(\u001B[0m\u001B[1;33m*\u001B[0m\u001B[0margs\u001B[0m\u001B[1;33m,\u001B[0m \u001B[1;33m**\u001B[0m\u001B[0mkwargs\u001B[0m\u001B[1;33m)\u001B[0m\u001B[1;33m\u001B[0m\u001B[1;33m\u001B[0m\u001B[0m\n\u001B[0m\u001B[0;32m     65\u001B[0m     \u001B[1;32mexcept\u001B[0m \u001B[0mException\u001B[0m \u001B[1;32mas\u001B[0m \u001B[0me\u001B[0m\u001B[1;33m:\u001B[0m  \u001B[1;31m# pylint: disable=broad-except\u001B[0m\u001B[1;33m\u001B[0m\u001B[1;33m\u001B[0m\u001B[0m\n\u001B[0;32m     66\u001B[0m       \u001B[0mfiltered_tb\u001B[0m \u001B[1;33m=\u001B[0m \u001B[0m_process_traceback_frames\u001B[0m\u001B[1;33m(\u001B[0m\u001B[0me\u001B[0m\u001B[1;33m.\u001B[0m\u001B[0m__traceback__\u001B[0m\u001B[1;33m)\u001B[0m\u001B[1;33m\u001B[0m\u001B[1;33m\u001B[0m\u001B[0m\n",
      "\u001B[1;32m~\\anaconda3\\envs\\jskim\\lib\\site-packages\\keras\\engine\\training.py\u001B[0m in \u001B[0;36mfit\u001B[1;34m(self, x, y, batch_size, epochs, verbose, callbacks, validation_split, validation_data, shuffle, class_weight, sample_weight, initial_epoch, steps_per_epoch, validation_steps, validation_batch_size, validation_freq, max_queue_size, workers, use_multiprocessing)\u001B[0m\n\u001B[0;32m   1382\u001B[0m                 _r=1):\n\u001B[0;32m   1383\u001B[0m               \u001B[0mcallbacks\u001B[0m\u001B[1;33m.\u001B[0m\u001B[0mon_train_batch_begin\u001B[0m\u001B[1;33m(\u001B[0m\u001B[0mstep\u001B[0m\u001B[1;33m)\u001B[0m\u001B[1;33m\u001B[0m\u001B[1;33m\u001B[0m\u001B[0m\n\u001B[1;32m-> 1384\u001B[1;33m               \u001B[0mtmp_logs\u001B[0m \u001B[1;33m=\u001B[0m \u001B[0mself\u001B[0m\u001B[1;33m.\u001B[0m\u001B[0mtrain_function\u001B[0m\u001B[1;33m(\u001B[0m\u001B[0miterator\u001B[0m\u001B[1;33m)\u001B[0m\u001B[1;33m\u001B[0m\u001B[1;33m\u001B[0m\u001B[0m\n\u001B[0m\u001B[0;32m   1385\u001B[0m               \u001B[1;32mif\u001B[0m \u001B[0mdata_handler\u001B[0m\u001B[1;33m.\u001B[0m\u001B[0mshould_sync\u001B[0m\u001B[1;33m:\u001B[0m\u001B[1;33m\u001B[0m\u001B[1;33m\u001B[0m\u001B[0m\n\u001B[0;32m   1386\u001B[0m                 \u001B[0mcontext\u001B[0m\u001B[1;33m.\u001B[0m\u001B[0masync_wait\u001B[0m\u001B[1;33m(\u001B[0m\u001B[1;33m)\u001B[0m\u001B[1;33m\u001B[0m\u001B[1;33m\u001B[0m\u001B[0m\n",
      "\u001B[1;32m~\\anaconda3\\envs\\jskim\\lib\\site-packages\\tensorflow\\python\\util\\traceback_utils.py\u001B[0m in \u001B[0;36merror_handler\u001B[1;34m(*args, **kwargs)\u001B[0m\n\u001B[0;32m    148\u001B[0m     \u001B[0mfiltered_tb\u001B[0m \u001B[1;33m=\u001B[0m \u001B[1;32mNone\u001B[0m\u001B[1;33m\u001B[0m\u001B[1;33m\u001B[0m\u001B[0m\n\u001B[0;32m    149\u001B[0m     \u001B[1;32mtry\u001B[0m\u001B[1;33m:\u001B[0m\u001B[1;33m\u001B[0m\u001B[1;33m\u001B[0m\u001B[0m\n\u001B[1;32m--> 150\u001B[1;33m       \u001B[1;32mreturn\u001B[0m \u001B[0mfn\u001B[0m\u001B[1;33m(\u001B[0m\u001B[1;33m*\u001B[0m\u001B[0margs\u001B[0m\u001B[1;33m,\u001B[0m \u001B[1;33m**\u001B[0m\u001B[0mkwargs\u001B[0m\u001B[1;33m)\u001B[0m\u001B[1;33m\u001B[0m\u001B[1;33m\u001B[0m\u001B[0m\n\u001B[0m\u001B[0;32m    151\u001B[0m     \u001B[1;32mexcept\u001B[0m \u001B[0mException\u001B[0m \u001B[1;32mas\u001B[0m \u001B[0me\u001B[0m\u001B[1;33m:\u001B[0m\u001B[1;33m\u001B[0m\u001B[1;33m\u001B[0m\u001B[0m\n\u001B[0;32m    152\u001B[0m       \u001B[0mfiltered_tb\u001B[0m \u001B[1;33m=\u001B[0m \u001B[0m_process_traceback_frames\u001B[0m\u001B[1;33m(\u001B[0m\u001B[0me\u001B[0m\u001B[1;33m.\u001B[0m\u001B[0m__traceback__\u001B[0m\u001B[1;33m)\u001B[0m\u001B[1;33m\u001B[0m\u001B[1;33m\u001B[0m\u001B[0m\n",
      "\u001B[1;32m~\\anaconda3\\envs\\jskim\\lib\\site-packages\\tensorflow\\python\\eager\\def_function.py\u001B[0m in \u001B[0;36m__call__\u001B[1;34m(self, *args, **kwds)\u001B[0m\n\u001B[0;32m    913\u001B[0m \u001B[1;33m\u001B[0m\u001B[0m\n\u001B[0;32m    914\u001B[0m       \u001B[1;32mwith\u001B[0m \u001B[0mOptionalXlaContext\u001B[0m\u001B[1;33m(\u001B[0m\u001B[0mself\u001B[0m\u001B[1;33m.\u001B[0m\u001B[0m_jit_compile\u001B[0m\u001B[1;33m)\u001B[0m\u001B[1;33m:\u001B[0m\u001B[1;33m\u001B[0m\u001B[1;33m\u001B[0m\u001B[0m\n\u001B[1;32m--> 915\u001B[1;33m         \u001B[0mresult\u001B[0m \u001B[1;33m=\u001B[0m \u001B[0mself\u001B[0m\u001B[1;33m.\u001B[0m\u001B[0m_call\u001B[0m\u001B[1;33m(\u001B[0m\u001B[1;33m*\u001B[0m\u001B[0margs\u001B[0m\u001B[1;33m,\u001B[0m \u001B[1;33m**\u001B[0m\u001B[0mkwds\u001B[0m\u001B[1;33m)\u001B[0m\u001B[1;33m\u001B[0m\u001B[1;33m\u001B[0m\u001B[0m\n\u001B[0m\u001B[0;32m    916\u001B[0m \u001B[1;33m\u001B[0m\u001B[0m\n\u001B[0;32m    917\u001B[0m       \u001B[0mnew_tracing_count\u001B[0m \u001B[1;33m=\u001B[0m \u001B[0mself\u001B[0m\u001B[1;33m.\u001B[0m\u001B[0mexperimental_get_tracing_count\u001B[0m\u001B[1;33m(\u001B[0m\u001B[1;33m)\u001B[0m\u001B[1;33m\u001B[0m\u001B[1;33m\u001B[0m\u001B[0m\n",
      "\u001B[1;32m~\\anaconda3\\envs\\jskim\\lib\\site-packages\\tensorflow\\python\\eager\\def_function.py\u001B[0m in \u001B[0;36m_call\u001B[1;34m(self, *args, **kwds)\u001B[0m\n\u001B[0;32m    945\u001B[0m       \u001B[1;31m# In this case we have created variables on the first call, so we run the\u001B[0m\u001B[1;33m\u001B[0m\u001B[1;33m\u001B[0m\u001B[1;33m\u001B[0m\u001B[0m\n\u001B[0;32m    946\u001B[0m       \u001B[1;31m# defunned version which is guaranteed to never create variables.\u001B[0m\u001B[1;33m\u001B[0m\u001B[1;33m\u001B[0m\u001B[1;33m\u001B[0m\u001B[0m\n\u001B[1;32m--> 947\u001B[1;33m       \u001B[1;32mreturn\u001B[0m \u001B[0mself\u001B[0m\u001B[1;33m.\u001B[0m\u001B[0m_stateless_fn\u001B[0m\u001B[1;33m(\u001B[0m\u001B[1;33m*\u001B[0m\u001B[0margs\u001B[0m\u001B[1;33m,\u001B[0m \u001B[1;33m**\u001B[0m\u001B[0mkwds\u001B[0m\u001B[1;33m)\u001B[0m  \u001B[1;31m# pylint: disable=not-callable\u001B[0m\u001B[1;33m\u001B[0m\u001B[1;33m\u001B[0m\u001B[0m\n\u001B[0m\u001B[0;32m    948\u001B[0m     \u001B[1;32melif\u001B[0m \u001B[0mself\u001B[0m\u001B[1;33m.\u001B[0m\u001B[0m_stateful_fn\u001B[0m \u001B[1;32mis\u001B[0m \u001B[1;32mnot\u001B[0m \u001B[1;32mNone\u001B[0m\u001B[1;33m:\u001B[0m\u001B[1;33m\u001B[0m\u001B[1;33m\u001B[0m\u001B[0m\n\u001B[0;32m    949\u001B[0m       \u001B[1;31m# Release the lock early so that multiple threads can perform the call\u001B[0m\u001B[1;33m\u001B[0m\u001B[1;33m\u001B[0m\u001B[1;33m\u001B[0m\u001B[0m\n",
      "\u001B[1;32m~\\anaconda3\\envs\\jskim\\lib\\site-packages\\tensorflow\\python\\eager\\function.py\u001B[0m in \u001B[0;36m__call__\u001B[1;34m(self, *args, **kwargs)\u001B[0m\n\u001B[0;32m   2955\u001B[0m        filtered_flat_args) = self._maybe_define_function(args, kwargs)\n\u001B[0;32m   2956\u001B[0m     return graph_function._call_flat(\n\u001B[1;32m-> 2957\u001B[1;33m         filtered_flat_args, captured_inputs=graph_function.captured_inputs)  # pylint: disable=protected-access\n\u001B[0m\u001B[0;32m   2958\u001B[0m \u001B[1;33m\u001B[0m\u001B[0m\n\u001B[0;32m   2959\u001B[0m   \u001B[1;33m@\u001B[0m\u001B[0mproperty\u001B[0m\u001B[1;33m\u001B[0m\u001B[1;33m\u001B[0m\u001B[0m\n",
      "\u001B[1;32m~\\anaconda3\\envs\\jskim\\lib\\site-packages\\tensorflow\\python\\eager\\function.py\u001B[0m in \u001B[0;36m_call_flat\u001B[1;34m(self, args, captured_inputs, cancellation_manager)\u001B[0m\n\u001B[0;32m   1852\u001B[0m       \u001B[1;31m# No tape is watching; skip to running the function.\u001B[0m\u001B[1;33m\u001B[0m\u001B[1;33m\u001B[0m\u001B[1;33m\u001B[0m\u001B[0m\n\u001B[0;32m   1853\u001B[0m       return self._build_call_outputs(self._inference_function.call(\n\u001B[1;32m-> 1854\u001B[1;33m           ctx, args, cancellation_manager=cancellation_manager))\n\u001B[0m\u001B[0;32m   1855\u001B[0m     forward_backward = self._select_forward_and_backward_functions(\n\u001B[0;32m   1856\u001B[0m         \u001B[0margs\u001B[0m\u001B[1;33m,\u001B[0m\u001B[1;33m\u001B[0m\u001B[1;33m\u001B[0m\u001B[0m\n",
      "\u001B[1;32m~\\anaconda3\\envs\\jskim\\lib\\site-packages\\tensorflow\\python\\eager\\function.py\u001B[0m in \u001B[0;36mcall\u001B[1;34m(self, ctx, args, cancellation_manager)\u001B[0m\n\u001B[0;32m    502\u001B[0m               \u001B[0minputs\u001B[0m\u001B[1;33m=\u001B[0m\u001B[0margs\u001B[0m\u001B[1;33m,\u001B[0m\u001B[1;33m\u001B[0m\u001B[1;33m\u001B[0m\u001B[0m\n\u001B[0;32m    503\u001B[0m               \u001B[0mattrs\u001B[0m\u001B[1;33m=\u001B[0m\u001B[0mattrs\u001B[0m\u001B[1;33m,\u001B[0m\u001B[1;33m\u001B[0m\u001B[1;33m\u001B[0m\u001B[0m\n\u001B[1;32m--> 504\u001B[1;33m               ctx=ctx)\n\u001B[0m\u001B[0;32m    505\u001B[0m         \u001B[1;32melse\u001B[0m\u001B[1;33m:\u001B[0m\u001B[1;33m\u001B[0m\u001B[1;33m\u001B[0m\u001B[0m\n\u001B[0;32m    506\u001B[0m           outputs = execute.execute_with_cancellation(\n",
      "\u001B[1;32m~\\anaconda3\\envs\\jskim\\lib\\site-packages\\tensorflow\\python\\eager\\execute.py\u001B[0m in \u001B[0;36mquick_execute\u001B[1;34m(op_name, num_outputs, inputs, attrs, ctx, name)\u001B[0m\n\u001B[0;32m     53\u001B[0m     \u001B[0mctx\u001B[0m\u001B[1;33m.\u001B[0m\u001B[0mensure_initialized\u001B[0m\u001B[1;33m(\u001B[0m\u001B[1;33m)\u001B[0m\u001B[1;33m\u001B[0m\u001B[1;33m\u001B[0m\u001B[0m\n\u001B[0;32m     54\u001B[0m     tensors = pywrap_tfe.TFE_Py_Execute(ctx._handle, device_name, op_name,\n\u001B[1;32m---> 55\u001B[1;33m                                         inputs, attrs, num_outputs)\n\u001B[0m\u001B[0;32m     56\u001B[0m   \u001B[1;32mexcept\u001B[0m \u001B[0mcore\u001B[0m\u001B[1;33m.\u001B[0m\u001B[0m_NotOkStatusException\u001B[0m \u001B[1;32mas\u001B[0m \u001B[0me\u001B[0m\u001B[1;33m:\u001B[0m\u001B[1;33m\u001B[0m\u001B[1;33m\u001B[0m\u001B[0m\n\u001B[0;32m     57\u001B[0m     \u001B[1;32mif\u001B[0m \u001B[0mname\u001B[0m \u001B[1;32mis\u001B[0m \u001B[1;32mnot\u001B[0m \u001B[1;32mNone\u001B[0m\u001B[1;33m:\u001B[0m\u001B[1;33m\u001B[0m\u001B[1;33m\u001B[0m\u001B[0m\n",
      "\u001B[1;31mKeyboardInterrupt\u001B[0m: "
     ]
    }
   ],
   "source": [
    "print(\"start\")\n",
    "loss_history = []\n",
    "for i in range(len(user_list)):\n",
    "    test_X = [np.expand_dims(dic_list[user_list[i]][\"image\"], axis=0), np.expand_dims(dic_list[user_list[i]][\"recur_image\"], axis=0)]\n",
    "    test_y = np.array([dic_list[user_list[i]][\"y\"]])\n",
    "\n",
    "    train_X = []\n",
    "    train_y = []\n",
    "    recur_X = []\n",
    "    image_X = []\n",
    "    body_X = []\n",
    "    for j in range(len(user_list)):\n",
    "        if i == j:\n",
    "            continue\n",
    "        recur_X.append(dic_list[user_list[j]][\"recur_image\"])  # normalization 필요\n",
    "        image_X.append(dic_list[user_list[j]][\"image\"])  # normalization 필요\n",
    "        train_y.append(dic_list[user_list[j]][\"y\"])\n",
    "        body_X.append(dic_list[user_list[j]][\"body_info\"])\n",
    "\n",
    "    train_dataset = tf.data.Dataset.from_tensor_slices(((np.array(image_X), np.array(recur_X)), np.array(train_y))).batch(1)\n",
    "\n",
    "    model = shallow_vgg.CompositeVGG()\n",
    "    loss = losses.MeanSquaredError()\n",
    "    optimizer = optimizers.Adam(learning_rate=1e-3)\n",
    "    model.compile(optimizer=optimizer, loss={'final_output': loss}, metrics=[metrics.MeanSquaredError(), metrics.MeanAbsoluteError(), mean_error])\n",
    "    history = model.fit(train_dataset,\n",
    "                        epochs=100, verbose=0)\n",
    "    plt.plot(history.history[\"loss\"])\n",
    "    plt.show()\n",
    "    eval_metric = model.evaluate(test_X, test_y)\n",
    "    loss_history.append(eval_metric[3])"
   ],
   "metadata": {
    "collapsed": false,
    "pycharm": {
     "name": "#%%\n"
    }
   }
  },
  {
   "cell_type": "code",
   "execution_count": null,
   "outputs": [],
   "source": [
    "print(loss_history)\n",
    "print(\"mean\", np.mean(loss_history))\n",
    "print(\"std\", np.std(loss_history))"
   ],
   "metadata": {
    "collapsed": false,
    "pycharm": {
     "name": "#%%\n"
    }
   }
  },
  {
   "cell_type": "code",
   "execution_count": 23,
   "outputs": [],
   "source": [
    "user_list = [\"인\", \"데이비드\", \"제이슨\", \"마이어\", \"찰스\", \"제임스\"]"
   ],
   "metadata": {
    "collapsed": false,
    "pycharm": {
     "name": "#%%\n"
    }
   }
  },
  {
   "cell_type": "code",
   "execution_count": 24,
   "outputs": [
    {
     "data": {
      "text/plain": "<Figure size 432x288 with 1 Axes>",
      "image/png": "[encoded data removed]"
     },
     "metadata": {
      "needs_background": "light"
     },
     "output_type": "display_data"
    },
    {
     "name": "stdout",
     "output_type": "stream",
     "text": [
      "training error: 0.06041279117371617\n",
      "1/1 [==============================] - 0s 146ms/step - loss: 6.0584 - mean_squared_error: 6.0584 - mean_absolute_error: 2.4614 - mean_error: 2.4614\n"
     ]
    },
    {
     "data": {
      "text/plain": "<Figure size 432x288 with 1 Axes>",
      "image/png": "[encoded data removed]"
     },
     "metadata": {
      "needs_background": "light"
     },
     "output_type": "display_data"
    },
    {
     "name": "stdout",
     "output_type": "stream",
     "text": [
      "training error: 0.053184786053937026\n",
      "1/1 [==============================] - 0s 143ms/step - loss: 12.6990 - mean_squared_error: 12.6990 - mean_absolute_error: 3.5636 - mean_error: -3.5636\n"
     ]
    },
    {
     "data": {
      "text/plain": "<Figure size 432x288 with 1 Axes>",
      "image/png": "[encoded data removed]"
     },
     "metadata": {
      "needs_background": "light"
     },
     "output_type": "display_data"
    },
    {
     "name": "stdout",
     "output_type": "stream",
     "text": [
      "training error: 0.06870685028592595\n",
      "1/1 [==============================] - 0s 147ms/step - loss: 301.1936 - mean_squared_error: 301.1936 - mean_absolute_error: 17.3549 - mean_error: -17.3549\n"
     ]
    },
    {
     "data": {
      "text/plain": "<Figure size 432x288 with 1 Axes>",
      "image/png": "[encoded data removed]"
     },
     "metadata": {
      "needs_background": "light"
     },
     "output_type": "display_data"
    },
    {
     "name": "stdout",
     "output_type": "stream",
     "text": [
      "training error: 0.04786499204759894\n",
      "1/1 [==============================] - 0s 144ms/step - loss: 39.9223 - mean_squared_error: 39.9223 - mean_absolute_error: 6.3184 - mean_error: 6.3184\n"
     ]
    },
    {
     "data": {
      "text/plain": "<Figure size 432x288 with 1 Axes>",
      "image/png": "[encoded data removed]"
     },
     "metadata": {
      "needs_background": "light"
     },
     "output_type": "display_data"
    },
    {
     "name": "stdout",
     "output_type": "stream",
     "text": [
      "training error: 0.050496487386613866\n",
      "1/1 [==============================] - 0s 147ms/step - loss: 87.9707 - mean_squared_error: 87.9707 - mean_absolute_error: 9.3793 - mean_error: 9.3793\n"
     ]
    },
    {
     "data": {
      "text/plain": "<Figure size 432x288 with 1 Axes>",
      "image/png": "[encoded data removed]"
     },
     "metadata": {
      "needs_background": "light"
     },
     "output_type": "display_data"
    },
    {
     "name": "stdout",
     "output_type": "stream",
     "text": [
      "training error: 0.059398290989840646\n",
      "1/1 [==============================] - 0s 148ms/step - loss: 26.3596 - mean_squared_error: 26.3596 - mean_absolute_error: 5.1342 - mean_error: 5.1342\n"
     ]
    }
   ],
   "source": [
    "loss_history = []\n",
    "for i in range(len(user_list)):\n",
    "    test_X = np.expand_dims(dic_list[user_list[i]][\"image\"], axis=0)\n",
    "    test_y = np.array([dic_list[user_list[i]][\"y\"]])\n",
    "    train_X = []\n",
    "    train_y = []\n",
    "    for j in range(len(user_list)):\n",
    "        if i == j:\n",
    "            continue\n",
    "        train_X.append(dic_list[user_list[j]][\"image\"])\n",
    "        train_y.append(dic_list[user_list[j]][\"y\"])\n",
    "    train_X = np.array(train_X)\n",
    "    train_y = np.array(train_y)\n",
    "    model = shallow_vgg.ShallowVGG(1, 1, 1)\n",
    "    loss = losses.MeanSquaredError()\n",
    "    optimizer = optimizers.Adam(learning_rate=1e-3)\n",
    "    es = callbacks.EarlyStopping(\n",
    "        monitor='mean_absolute_error',\n",
    "        min_delta=0,\n",
    "        patience=50,\n",
    "        verbose=0,\n",
    "        mode='auto',\n",
    "        baseline=None,\n",
    "        restore_best_weights=True\n",
    "    )\n",
    "    model.compile(optimizer=optimizer, loss=loss, metrics=[metrics.MeanSquaredError(), metrics.MeanAbsoluteError(), mean_error])\n",
    "    history = model.fit(train_X, train_y, epochs=500, verbose=0, callbacks=[es])\n",
    "    plt.plot(history.history[\"mean_absolute_error\"])\n",
    "    plt.show()\n",
    "    print(\"training error:\", np.mean(history.history[\"mean_error\"]))\n",
    "    eval_metric = model.evaluate(test_X, test_y)\n",
    "    loss_history.append(eval_metric[3])"
   ],
   "metadata": {
    "collapsed": false,
    "pycharm": {
     "name": "#%%\n"
    }
   }
  },
  {
   "cell_type": "code",
   "execution_count": 25,
   "outputs": [
    {
     "name": "stdout",
     "output_type": "stream",
     "text": [
      "[2.4613819122314453, -3.5635604858398438, -17.354928970336914, 6.318412780761719, 9.3792724609375, 5.134160995483398]\n",
      "mean 0.39578978220621747\n",
      "std 8.881288641496818\n"
     ]
    }
   ],
   "source": [
    "print(loss_history)\n",
    "print(\"mean\", np.mean(loss_history))\n",
    "print(\"std\", np.std(loss_history))"
   ],
   "metadata": {
    "collapsed": false,
    "pycharm": {
     "name": "#%%\n"
    }
   }
  },
  {
   "cell_type": "code",
   "execution_count": 6,
   "outputs": [
    {
     "name": "stdout",
     "output_type": "stream",
     "text": [
      "36.62\n",
      "22.75\n",
      "38.76\n",
      "13.35\n",
      "31.46\n",
      "17.51\n",
      "31.66\n",
      "41.19\n"
     ]
    }
   ],
   "source": [
    "for key in dic_list:\n",
    "    print(dic_list[key][\"y\"])"
   ],
   "metadata": {
    "collapsed": false,
    "pycharm": {
     "name": "#%%\n"
    }
   }
  }
 ],
 "metadata": {
  "kernelspec": {
   "display_name": "Python 3",
   "language": "python",
   "name": "python3"
  },
  "language_info": {
   "codemirror_mode": {
    "name": "ipython",
    "version": 2
   },
   "file_extension": ".py",
   "mimetype": "text/x-python",
   "name": "python",
   "nbconvert_exporter": "python",
   "pygments_lexer": "ipython2",
   "version": "2.7.6"
  }
 },
 "nbformat": 4,
 "nbformat_minor": 0
}